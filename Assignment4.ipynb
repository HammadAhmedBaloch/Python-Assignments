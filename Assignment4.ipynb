{
 "cells": [
  {
   "cell_type": "code",
   "execution_count": 1,
   "metadata": {},
   "outputs": [
    {
     "name": "stdout",
     "output_type": "stream",
     "text": [
      "{'city': 'Karachi', 'first_name': 'Hammad', 'last_name': 'Ahmed', 'age': 21}\n",
      "{'city': 'Karachi', 'first_name': 'Hammad', 'last_name': 'Ahmed', 'age': 21, 'Qualification': 'BSCS(Computer Science)'}\n",
      "{'city': 'Karachi', 'first_name': 'Hammad', 'last_name': 'Ahmed', 'age': 21}\n"
     ]
    }
   ],
   "source": [
    "# Q:1\n",
    "person = {\n",
    "    'first_name':'Hammad',\n",
    "    'last_name': 'Ahmed',\n",
    "    'age': 21,\n",
    "    'city': 'Karachi',\n",
    "    }\n",
    "print (person)\n",
    "person['Qualification']='BSCS(Computer Science)'\n",
    "print (person)\n",
    "del person['Qualification']\n",
    "print (person)"
   ]
  },
  {
   "cell_type": "code",
   "execution_count": 2,
   "metadata": {},
   "outputs": [
    {
     "name": "stdout",
     "output_type": "stream",
     "text": [
      "\n",
      "Karachi is in Pakistan.\n",
      "  It has a population of about 14910352.\n",
      "  The 5Th ranked in the world.\n",
      "\n",
      "Istanbul is in Turkey.\n",
      "  It has a population of about 82003882.\n",
      "  The 28Th  ranked in the world.\n",
      "\n",
      "Kuala Lumpur is in Maylaisa.\n",
      "  It has a population of about 17310.\n",
      "  The 29Th ranked in the world.\n"
     ]
    }
   ],
   "source": [
    "#Q:2\n",
    "cities = {\n",
    "    'Karachi': {\n",
    "        'country': 'Pakistan',\n",
    "        'population':14910352,\n",
    "        'ranked': '5th',\n",
    "        },\n",
    "    'Istanbul': {\n",
    "        'country': 'Turkey',\n",
    "        'population': 82003882 ,\n",
    "        'ranked': '28th ',\n",
    "        },\n",
    "    'Kuala lumpur': {\n",
    "        'country': 'Maylaisa',\n",
    "        'population': 17310 ,\n",
    "        'ranked': '29th',\n",
    "        }\n",
    "    }\n",
    "\n",
    "for city, city_info in cities.items():\n",
    "    country = city_info['country'].title()\n",
    "    population = city_info['population']\n",
    "    ranked = city_info['ranked'].title()\n",
    "\n",
    "    print(\"\\n\" + city.title() + \" is in \" + country + \".\")\n",
    "    print(\"  It has a population of about \" + str(population) + \".\")\n",
    "    print(\"  The \" + ranked + \" ranked in the world.\")"
   ]
  },
  {
   "cell_type": "code",
   "execution_count": 3,
   "metadata": {},
   "outputs": [
    {
     "name": "stdout",
     "output_type": "stream",
     "text": [
      "what is your age21\n",
      "your ticket is $15\n"
     ]
    }
   ],
   "source": [
    "# Q:3\n",
    "for i in range(3):\n",
    "    age = int(input(\"what is your age\"))\n",
    "    if age <=3:\n",
    "        print(\"your ticket is free\")\n",
    "        break\n",
    "    elif age >3 and age <=12:\n",
    "        print(\"your ticket is $10\")\n",
    "        break\n",
    "    elif age > 12:\n",
    "        print(\"your ticket is $15\")\n",
    "        break"
   ]
  },
  {
   "cell_type": "code",
   "execution_count": 5,
   "metadata": {},
   "outputs": [
    {
     "data": {
      "text/plain": [
       "('One of my favourite book is', 'Wathering Heights')"
      ]
     },
     "execution_count": 5,
     "metadata": {},
     "output_type": "execute_result"
    }
   ],
   "source": [
    "# Q:4\n",
    "def favourite_book(title):\n",
    "        note = \"One of my favourite book is\",title\n",
    "        return note\n",
    "favourite_book('Wathering Heights')"
   ]
  },
  {
   "cell_type": "code",
   "execution_count": 7,
   "metadata": {},
   "outputs": [
    {
     "name": "stdout",
     "output_type": "stream",
     "text": [
      "Hint: Try a number between 10 and 20\n",
      "Enter your guess: 3\n",
      "Your guess is wrong\n",
      "Better luck next time :(\n",
      "Enter your guess: 15\n",
      "Your guess is wrong\n",
      "Better luck next time :(\n",
      "Enter your guess: 12\n",
      "Your guess is wrong\n",
      "Better luck next time :(\n"
     ]
    }
   ],
   "source": [
    "# Q:5\n",
    "import random\n",
    "hidden_num = random.randint(1,30)\n",
    "if hidden_num >= 1 and hidden_num < 10:\n",
    "    print(\"Hint: Try a number between 1 and 10\")\n",
    "elif hidden_num >= 10 and hidden_num < 20:\n",
    "    print(\"Hint: Try a number between 10 and 20\")\n",
    "elif hidden_num >= 20 and hidden_num < 30:\n",
    "    print(\"Hint: Try a number between 20 and 30\")\n",
    "for i in range(0,3):\n",
    "    user = int(input(\"Enter your guess: \"))\n",
    "    if user < 1 or user > 30:\n",
    "        print(\"Choose a number between 1 and 30\")\n",
    "    else:\n",
    "        if user == hidden_num:\n",
    "            print(\"Your guess is right :)\")\n",
    "            break\n",
    "        else:\n",
    "            print(\"Your guess is wrong\")\n",
    "            print(\"Better luck next time :(\")"
   ]
  },
  {
   "cell_type": "code",
   "execution_count": null,
   "metadata": {},
   "outputs": [],
   "source": []
  }
 ],
 "metadata": {
  "kernelspec": {
   "display_name": "Python 2",
   "language": "python",
   "name": "python2"
  },
  "language_info": {
   "codemirror_mode": {
    "name": "ipython",
    "version": 2
   },
   "file_extension": ".py",
   "mimetype": "text/x-python",
   "name": "python",
   "nbconvert_exporter": "python",
   "pygments_lexer": "ipython2",
   "version": "2.7.15+"
  }
 },
 "nbformat": 4,
 "nbformat_minor": 2
}
